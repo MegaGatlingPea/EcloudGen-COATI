{
 "cells": [
  {
   "cell_type": "code",
   "execution_count": null,
   "metadata": {},
   "outputs": [],
   "source": [
    "from coati.models.io.coati import load_e3gnn_smiles_clip_e2e\n",
    "import os\n",
    "import torch\n",
    "from coati.common.util import batch_indexable\n",
    "from rdkit import Chem\n",
    "import numpy as np\n",
    "import matplotlib.pyplot as plt\n",
    "from sklearn.metrics import r2_score\n",
    "from coati.models.regression.basic_due import basic_due\n",
    "from coati.utils.chem import rm_radical, token_clean, rdkit_normal_smi"
   ]
  },
  {
   "cell_type": "code",
   "execution_count": null,
   "metadata": {},
   "outputs": [],
   "source": [
    "\n",
    "def embed_and_score_in_batches_regression(\n",
    "    records,\n",
    "    encoder,\n",
    "    tokenizer,\n",
    "    batch_size=128,\n",
    "    score=True,\n",
    "    smiles_field=\"smiles\",\n",
    "):\n",
    "    # A helper function to compute embeddings from the model encoder and\n",
    "    # rdkit properties of molecules in batches. The input list of dict records\n",
    "    # is modified in place.\n",
    "\n",
    "    print(\"Embedding and scoring iterable from smiles.\")\n",
    "    batch_iter = batch_indexable(records, batch_size)\n",
    "    num_batches = len(records) // batch_size\n",
    "    with torch.no_grad():\n",
    "        for i, batch in enumerate(batch_iter):\n",
    "            print(f\"batch: {i}/{num_batches}\")\n",
    "            try:\n",
    "                batch_mols = [Chem.MolFromSmiles(row[smiles_field]) for row in batch]\n",
    "                batch_smiles = [Chem.MolToSmiles(m) for m in batch_mols]\n",
    "                batch_tokens = torch.tensor(\n",
    "                    [\n",
    "                        tokenizer.tokenize_text(\"[SMILES]\" + s + \"[STOP]\", pad=True)\n",
    "                        if s != \"*\"\n",
    "                        else tokenizer.tokenize_text(\"[SMILES]C[STOP]\", pad=True)\n",
    "                        for s in batch_smiles\n",
    "                    ],\n",
    "                    device=encoder.device,\n",
    "                    dtype=torch.int,\n",
    "                )\n",
    "                batch_embeds = encoder.encode_tokens(batch_tokens, tokenizer)\n",
    "                if score:\n",
    "                    batch_logp = [Chem.Crippen.MolLogP(m) for m in batch_mols]\n",
    "                    batch_qed = [Chem.QED.qed(m) for m in batch_mols]\n",
    "                if len(batch) < 2:\n",
    "                    batch[0][\"emb_smiles\"] = batch_embeds[0].detach().cpu().numpy()\n",
    "                    if score:\n",
    "                        batch[0][\"qed\"] = batch_qed[0]\n",
    "                        batch[0][\"logp\"] = batch_logp[0]\n",
    "                        batch[0][\"smiles\"] = batch_smiles[0]\n",
    "                else:\n",
    "                    for k, r in enumerate(batch):\n",
    "                        batch[k][\"emb_smiles\"] = batch_embeds[k].detach().cpu().numpy()\n",
    "                        if score:\n",
    "                            batch[k][\"qed\"] = batch_qed[k]\n",
    "                            batch[k][\"logp\"] = batch_logp[k]\n",
    "                            batch[k][\"smiles\"] = batch_smiles[k]\n",
    "            except Exception as Ex:\n",
    "                print(Ex)\n",
    "                continue\n",
    "\n",
    "def get_due_plot(due_result, y_field=\"qed\", save_name=\"regression_plot.png\"):\n",
    "    \"\"\"Plots the DUE model regressed results.\"\"\"\n",
    "\n",
    "    # xs are the true values, ys are the predicted values, dys are the errors.\n",
    "    xs, ys, dys = due_result\n",
    "\n",
    "    fig, ax = plt.subplots(figsize=(11, 6))\n",
    "    n_to_plot = 30000\n",
    "    ax.errorbar(\n",
    "        (xs[:n_to_plot]),\n",
    "        (ys[:n_to_plot]),\n",
    "        yerr=dys[:n_to_plot],\n",
    "        fmt=\"o\",\n",
    "        color=\"black\",\n",
    "        ecolor=\"lightgray\",\n",
    "        elinewidth=3,\n",
    "        capsize=0,\n",
    "    )\n",
    "    plt.xlabel(\"True \" + y_field)\n",
    "    plt.ylabel(\"Regressed \" + y_field)\n",
    "    plt.savefig(save_name)\n"
   ]
  },
  {
   "cell_type": "code",
   "execution_count": null,
   "metadata": {},
   "outputs": [],
   "source": [
    "import argparse\n",
    "arg_parser = argparse.ArgumentParser()\n",
    "arg_parser.add_argument('--mode', choices=['basic', 'near', 'regression', 'dynamics', 'BO'], \\\n",
    "    default='basic',help='Generation mode')\n",
    "arg_parser.add_argument('--regression_y', choices=['qed', 'logp', 'pic50'], \\\n",
    "    default='qed',help='Regression target')\n",
    "arg_parser.add_argument('--device', choices=['cuda:0', 'cpu'], \\\n",
    "    default='cuda:0',help='Device')\n",
    "arg_parser.add_argument('--seed', type=int, default=2024) \n",
    "arg_parser.add_argument('--model', type=str, default = \\\n",
    "                'model_ckpts/ecloud_augmented_37.pkl')\n",
    "arg_parser.add_argument('--dataset', type=str, default='ecloud_coati_demo.pt')\n",
    "arg_parser.add_argument('--smiles', type=str, default='data/alk_1514.txt')\n",
    "arg_parser.add_argument('--output', type=str, default='mols/0423_near_mol4_30.txt')\n",
    "arg_parser.add_argument('--noise', type=float, default=0.3)\n",
    "args = arg_parser.parse_args([])\n",
    "\n",
    "\n",
    "args.regression_y = 'pic50'"
   ]
  },
  {
   "cell_type": "code",
   "execution_count": null,
   "metadata": {},
   "outputs": [],
   "source": [
    "DEVICE = torch.device(args.device)\n",
    "encoder, tokenizer = load_e3gnn_smiles_clip_e2e(\n",
    "    freeze=True,\n",
    "    device=DEVICE,\n",
    "    doc_url=args.model,\n",
    ")\n"
   ]
  },
  {
   "cell_type": "code",
   "execution_count": null,
   "metadata": {},
   "outputs": [],
   "source": [
    "args.smiles = './examples/conditions/target_ic50/pdbbind_4bel.txt'\n",
    "\n",
    "prefix = args.smiles.split('/')[-1].split('.')[0]+'_'\n",
    "\n",
    "with open(args.smiles) as f:\n",
    "    pairs = [line.strip('\\n').split(',') for line in f]\n",
    "subset = []\n",
    "for pair in pairs:\n",
    "    smi = pair[0]\n",
    "    smi = token_clean(smi, tokenizer)\n",
    "    if smi == None:\n",
    "        continue\n",
    "    subset.append({\"smiles\": smi, \"source\": f\"{prefix[:-1]}\", \"docking\": float(pair[1])})\n",
    "    \n",
    "embed_and_score_in_batches_regression(subset, encoder, tokenizer)\n",
    "subset = [r for r in subset if \"emb_smiles\" in r]\n",
    "\n",
    "save_name = 'results/'+prefix+'data.pt'\n",
    "torch.save(subset, save_name)"
   ]
  },
  {
   "cell_type": "code",
   "execution_count": null,
   "metadata": {},
   "outputs": [],
   "source": [
    "from glob import glob\n",
    "smis = glob('./examples/conditions/target_ic50/*.txt')\n",
    "\n",
    "y_field = 'pic50'\n",
    "for smi in smis:\n",
    "    args.smiles = smi\n",
    "    prefix = args.smiles.split('/')[-1].split('.')[0]+'_'\n",
    "\n",
    "    with open(args.smiles) as f:\n",
    "        pair = [line.strip('\\n').split(',') for line in f]\n",
    "    subset = [{\"smiles\": p[0], \"source\": f\"{prefix[:-1]}\", \"pic50\": float(p[1])} for p in pair]\n",
    "    embed_and_score_in_batches_regression(subset, encoder, tokenizer)\n",
    "    subset = [r for r in subset if \"emb_smiles\" in r]\n",
    "\n",
    "    save_name = 'results/'+prefix+'data.pt'\n",
    "    torch.save(subset, save_name)"
   ]
  },
  {
   "cell_type": "code",
   "execution_count": null,
   "metadata": {},
   "outputs": [],
   "source": [
    "prefix = args.smiles.split('/')[-1].split('.')[0]+'_'\n",
    "save_name = 'results/'+prefix+'data.pt'\n",
    "torch.save(subset, save_name)"
   ]
  },
  {
   "cell_type": "code",
   "execution_count": null,
   "metadata": {},
   "outputs": [],
   "source": [
    "subset = torch.load('./data/trained_diff_property_4w.pt')"
   ]
  },
  {
   "cell_type": "code",
   "execution_count": null,
   "metadata": {},
   "outputs": [],
   "source": [
    "y_field = 'docking'\n",
    "print('num after embed:', len(subset))\n",
    "prefix = args.smiles.split('/')[-1].split('.')[0]+'_'\n",
    "qsar_model, qsar_res = basic_due(\n",
    "    subset,\n",
    "    x_field=\"emb_smiles\",\n",
    "    y_field=y_field,\n",
    "    save_as=\"results/\"+prefix+\"regression_\"+y_field+\".pkl\",\n",
    "    continue_training=True,\n",
    "    steps=3e4,\n",
    "    random_seed=args.seed\n",
    "    )\n",
    "qsar_model = qsar_model.to(DEVICE)"
   ]
  },
  {
   "cell_type": "code",
   "execution_count": 10,
   "metadata": {},
   "outputs": [
    {
     "name": "stdout",
     "output_type": "stream",
     "text": [
      "pdbbind_4bel_R2: 0.8322605427191337\n"
     ]
    },
    {
     "data": {
      "image/png": "[encoded data removed]",
      "text/plain": [
       "<Figure size 1100x600 with 1 Axes>"
      ]
     },
     "metadata": {},
     "output_type": "display_data"
    }
   ],
   "source": [
    "xs, ys, _ = qsar_res\n",
    "print(prefix+'R2: '+str(r2_score(xs,ys)))\n",
    "with open(f'results/{prefix}{y_field}_regression_result.csv','w') as f:\n",
    "    f.write(\"True,Prediction\\n\")\n",
    "    for i in range(len(xs)):\n",
    "        f.write('%.3f,%.3f\\n'%(xs[i], ys[i]))\n",
    "get_due_plot(qsar_res, y_field=y_field, save_name=\"results/\"+prefix+y_field+\"_regression_plot.png\")\n"
   ]
  }
 ],
 "metadata": {
  "kernelspec": {
   "display_name": "ecloud",
   "language": "python",
   "name": "python3"
  },
  "language_info": {
   "codemirror_mode": {
    "name": "ipython",
    "version": 3
   },
   "file_extension": ".py",
   "mimetype": "text/x-python",
   "name": "python",
   "nbconvert_exporter": "python",
   "pygments_lexer": "ipython3",
   "version": "3.9.19"
  },
  "orig_nbformat": 4
 },
 "nbformat": 4,
 "nbformat_minor": 2
}
