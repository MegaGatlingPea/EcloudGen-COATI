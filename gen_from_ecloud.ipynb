{
 "cells": [
  {
   "cell_type": "code",
   "execution_count": 14,
   "metadata": {},
   "outputs": [],
   "source": [
    "import pickle\n",
    "import random\n",
    "import argparse\n",
    "import numpy as np\n",
    "from rdkit import Chem\n",
    "import rdkit.Chem.QED\n",
    "import matplotlib\n",
    "import matplotlib.pyplot as plt\n",
    "from sklearn.manifold import TSNE\n",
    "import pandas as pd\n",
    "import torch\n",
    "from torch.utils.data import DataLoader\n",
    "from coati.models.io.coati import load_e3gnn_smiles_clip_e2e\n",
    "from coati.models.regression.basic_due import basic_due\n",
    "from coati.data.dataset import ecloud_dataset\n",
    "from coati.common.util import batch_indexable\n",
    "from coati.math_tools.altair_plots import roc_plot\n",
    "from coati.generative.coati_purifications import force_decode_valid_batch, purify_vector, embed_smiles\n",
    "from coati.generative.embed_altair import embed_altair\n",
    "from coati.utils.chem import read_sdf\n",
    "import os.path as osp\n",
    "from glob import glob\n",
    "from tqdm import tqdm\n",
    "import os\n",
    "import shutil\n",
    "def write_sdf(mols, filename):\n",
    "    w = Chem.SDWriter(filename)\n",
    "    for mol in mols:\n",
    "        w.write(mol)\n",
    "    w.close()\n",
    "from rdkit.Chem import AllChem\n",
    "def gen_geom_with_rdkit(mol):\n",
    "    try:\n",
    "        mol = Chem.AddHs(mol)\n",
    "        AllChem.EmbedMolecule(mol)\n",
    "        AllChem.MMFFOptimizeMolecule(mol)\n",
    "        mol = Chem.RemoveHs(mol)\n",
    "    except:\n",
    "        pass\n",
    "    return mol"
   ]
  },
  {
   "cell_type": "code",
   "execution_count": 4,
   "metadata": {},
   "outputs": [],
   "source": [
    "arg_parser = argparse.ArgumentParser()\n",
    "arg_parser.add_argument('--mode', choices=['basic', 'near', 'regression', 'dynamics'], \\\n",
    "    default='basic',help='Generation mode')\n",
    "arg_parser.add_argument('--device', choices=['cuda:0', 'cpu'], \\\n",
    "    default='cuda:0',help='Device')\n",
    "arg_parser.add_argument('--seed', type=int, default=2024) \n",
    "arg_parser.add_argument('--model', type=str, default = 'model_ckpts/ecloud_augmented_37.pkl')\n",
    "arg_parser.add_argument('--dataset', type=str, default='data/ecloud_coati_demo.pt')\n",
    "arg_parser.add_argument('--output', type=str, default='0423_near_mol4_30.txt')\n",
    "arg_parser.add_argument('--noise', type=float, default=0.6)\n",
    "args = arg_parser.parse_args([])"
   ]
  },
  {
   "cell_type": "code",
   "execution_count": 5,
   "metadata": {},
   "outputs": [
    {
     "name": "stdout",
     "output_type": "stream",
     "text": [
      "Loading model from model_ckpts/ecloud_augmented_37.pkl\n",
      "Loading tokenizer mar from model_ckpts/ecloud_augmented_37.pkl\n",
      "number of parameters: 12.64M\n",
      "number of parameters Total: 2.44M xformer: 19.60M Total: 22.04M \n",
      "Freezing encoder\n",
      "44882816 params frozen!\n"
     ]
    }
   ],
   "source": [
    "DEVICE = args.device\n",
    "encoder, tokenizer = load_e3gnn_smiles_clip_e2e(\n",
    "    freeze=True,\n",
    "    device=DEVICE,\n",
    "    # model parameters to load.\n",
    "    doc_url=args.model,\n",
    ")"
   ]
  },
  {
   "cell_type": "code",
   "execution_count": 4,
   "metadata": {},
   "outputs": [
    {
     "name": "stderr",
     "output_type": "stream",
     "text": [
      "100%|██████████| 100/100 [24:39<00:00, 14.79s/it]\n"
     ]
    }
   ],
   "source": [
    "# generate molecules form generated eclouds\n",
    "gen_base = './generation/ecloud_gens_32/'\n",
    "save_base = './generation/ecloudgen_mols_32_gen_full/'\n",
    "targets = glob(osp.join(gen_base, '*'))\n",
    "for target in tqdm(targets):\n",
    "    ref_ecloud = glob(osp.join(target, '*_ecloudref.npy'))[0]\n",
    "    gen_ecloud = glob(osp.join(target, '*_ecouldgen.npy'))[0]\n",
    "    pdb_file = glob(osp.join(target, '*.pdb'))[0]\n",
    "    ori_sdf = glob(osp.join(target, '*.sdf'))[0]\n",
    "\n",
    "    cloud_npy = gen_ecloud\n",
    "    eclouds = torch.Tensor(np.load(cloud_npy)).to(torch.float).to(DEVICE)\n",
    "    smiles_list = encoder.decipher_eclouds_to_mols(eclouds, tokenizer, '[SMILES]', noise_scale=args.noise, batch_repeat=5, total_gen=1000)\n",
    "    mols_list = [Chem.MolFromSmiles(s) for s in smiles_list]\n",
    "    mols_list = [gen_geom_with_rdkit(m) for m in mols_list]\n",
    "    save_dir = osp.join(save_base, osp.basename(target))\n",
    "    SDF_dir = osp.join(save_dir, 'SDF')\n",
    "    os.makedirs(SDF_dir, exist_ok=True)\n",
    "    write_sdf(mols_list, osp.join(save_dir, f'{osp.basename(target)}_ecloudgen.sdf'))\n",
    "    for i, m in enumerate(mols_list):\n",
    "        write_sdf([m], osp.join(SDF_dir, f'{i}.sdf'))\n",
    "    shutil.copy(pdb_file, save_dir)\n",
    "    # shutil.copy(ref_ecloud, save_dir)\n",
    "    # shutil.copy(gen_ecloud, save_dir)\n",
    "    shutil.copy(ori_sdf, save_dir)"
   ]
  },
  {
   "cell_type": "code",
   "execution_count": 5,
   "metadata": {},
   "outputs": [
    {
     "name": "stderr",
     "output_type": "stream",
     "text": [
      "100%|██████████| 100/100 [26:24<00:00, 15.84s/it]\n"
     ]
    }
   ],
   "source": [
    "# generate molecules form generated eclouds\n",
    "gen_base = './generation/ecloud_gens_32/'\n",
    "save_base = './generation/ecloudgen_mols_32_ref_more/'\n",
    "targets = glob(osp.join(gen_base, '*'))\n",
    "for target in tqdm(targets):\n",
    "    ref_ecloud = glob(osp.join(target, '*_ecloudref.npy'))[0]\n",
    "    gen_ecloud = glob(osp.join(target, '*_ecouldgen.npy'))[0]\n",
    "    pdb_file = glob(osp.join(target, '*.pdb'))[0]\n",
    "    ori_sdf = glob(osp.join(target, '*.sdf'))[0]\n",
    "\n",
    "    cloud_npy = ref_ecloud\n",
    "    eclouds = torch.Tensor(np.load(cloud_npy)).to(torch.float).to(DEVICE)\n",
    "    smiles_list = encoder.decipher_eclouds_to_mols(eclouds, tokenizer, '[SMILES]', noise_scale=args.noise, batch_repeat=50, total_gen=500)\n",
    "    mols_list = [Chem.MolFromSmiles(s) for s in smiles_list]\n",
    "    mols_list = [gen_geom_with_rdkit(m) for m in mols_list]\n",
    "    save_dir = osp.join(save_base, osp.basename(target))\n",
    "    SDF_dir = osp.join(save_dir, 'SDF')\n",
    "    os.makedirs(SDF_dir, exist_ok=True)\n",
    "    write_sdf(mols_list, osp.join(save_dir, f'{osp.basename(target)}_ecloudgen.sdf'))\n",
    "    for i, m in enumerate(mols_list):\n",
    "        write_sdf([m], osp.join(SDF_dir, f'{i}.sdf'))\n",
    "    shutil.copy(pdb_file, save_dir)\n",
    "    # shutil.copy(ref_ecloud, save_dir)\n",
    "    # shutil.copy(gen_ecloud, save_dir)\n",
    "    shutil.copy(ori_sdf, save_dir)"
   ]
  },
  {
   "cell_type": "code",
   "execution_count": 4,
   "metadata": {},
   "outputs": [
    {
     "name": "stderr",
     "output_type": "stream",
     "text": [
      "100%|██████████| 73/73 [23:48<00:00, 19.56s/it]\n"
     ]
    }
   ],
   "source": [
    "# generate molecules form generated eclouds\n",
    "gen_base = './generation/resgen_epo57_top10/'\n",
    "save_base = './generation/resgen_epo57_top10/'\n",
    "targets = glob(osp.join(gen_base, '*'))\n",
    "for target in tqdm(targets):\n",
    "    gen_ecloud = glob(osp.join(target, '*.npy'))[0]\n",
    "\n",
    "    cloud_npy = gen_ecloud\n",
    "    eclouds = torch.Tensor(np.load(cloud_npy)).to(torch.float).to(DEVICE)\n",
    "    smiles_list = encoder.decipher_eclouds_to_mols(eclouds, tokenizer, '[SMILES]', noise_scale=args.noise, batch_repeat=25, total_gen=200)\n",
    "    mols_list = [Chem.MolFromSmiles(s) for s in smiles_list]\n",
    "    mols_list = [gen_geom_with_rdkit(m) for m in mols_list]\n",
    "    save_dir = osp.join(save_base, osp.basename(target))\n",
    "    SDF_dir = osp.join(save_dir, 'SDF')\n",
    "    os.makedirs(SDF_dir, exist_ok=True)\n",
    "    write_sdf(mols_list, osp.join(save_dir, f'{osp.basename(target)}_ecloudgen.sdf'))\n",
    "    for i, m in enumerate(mols_list):\n",
    "        write_sdf([m], osp.join(SDF_dir, f'{i}.sdf'))\n"
   ]
  },
  {
   "cell_type": "code",
   "execution_count": 7,
   "metadata": {},
   "outputs": [
    {
     "name": "stderr",
     "output_type": "stream",
     "text": [
      "100%|██████████| 73/73 [00:00<00:00, 3992.28it/s]\n"
     ]
    }
   ],
   "source": [
    "gen_base = './generation/resgen_epo57_top10/'\n",
    "save_base = './generation/resgen_epo57_top10/'\n",
    "targets = glob(osp.join(gen_base, '*'))\n",
    "for target in tqdm(targets):\n",
    "    ori_sdf = max(glob(osp.join(target, '*.sdf')), key=len)\n",
    "    ori_dir = osp.join(target, 'ori')\n",
    "    os.makedirs(ori_dir, exist_ok=True)\n",
    "    shutil.copy(ori_sdf, osp.join(ori_dir, '0.sdf'))"
   ]
  },
  {
   "cell_type": "code",
   "execution_count": 6,
   "metadata": {},
   "outputs": [
    {
     "data": {
      "text/plain": [
       "'./generation/resgen_epo57_top10/3w83_B_rec_2e6d/3w83_B_rec_2e6d_fum_lig_tt_min_0.sdf'"
      ]
     },
     "execution_count": 6,
     "metadata": {},
     "output_type": "execute_result"
    }
   ],
   "source": [
    "ori_sdf"
   ]
  },
  {
   "cell_type": "code",
   "execution_count": 32,
   "metadata": {},
   "outputs": [
    {
     "data": {
      "image/png": "[encoded data removed]",
      "text/plain": [
       "<rdkit.Chem.rdchem.Mol at 0x7f00d8180e40>"
      ]
     },
     "execution_count": 32,
     "metadata": {},
     "output_type": "execute_result"
    }
   ],
   "source": [
    "mols_list[100]"
   ]
  },
  {
   "cell_type": "code",
   "execution_count": 12,
   "metadata": {},
   "outputs": [],
   "source": [
    "# generate from single ecloud\n",
    "ori_mol = read_sdf('./examples/BRD4/KRD4.sdf')[0]\n",
    "cloud_npy = './examples/BRD4/KRD4_ecloud.npy'\n",
    "eclouds = torch.Tensor(np.load(cloud_npy)).to(torch.float).to(DEVICE)\n",
    "smiles_list = encoder.decipher_eclouds_to_mols(eclouds, tokenizer, '[SMILES]', noise_scale=args.noise, batch_repeat=5, total_gen=1000)\n",
    "mols_list = [Chem.MolFromSmiles(s) for s in smiles_list]\n",
    "mols_list = [gen_geom_with_rdkit(m) for m in mols_list]\n",
    "write_sdf(mols_list, './generation/BRD4/KRD4_from_ecloud.sdf')"
   ]
  },
  {
   "cell_type": "code",
   "execution_count": 21,
   "metadata": {},
   "outputs": [
    {
     "data": {
      "image/png": "[encoded data removed]",
      "text/plain": [
       "<IPython.core.display.Image object>"
      ]
     },
     "execution_count": 21,
     "metadata": {},
     "output_type": "execute_result"
    }
   ],
   "source": [
    "from rdkit import Chem\n",
    "from rdkit.Chem import Draw\n",
    "Draw.MolsToGridImage(mols_list[:3])"
   ]
  },
  {
   "cell_type": "code",
   "execution_count": 33,
   "metadata": {},
   "outputs": [],
   "source": [
    "ori_mol = read_sdf('./examples/BRD4/KRD4.sdf')[0]\n",
    "ori_smi = Chem.MolToSmiles(ori_mol)\n",
    "cloud_npy = './examples/BRD4/KRD4_ecloud.npy'\n",
    "s = Chem.MolToSmiles(Chem.MolFromSmiles(ori_smi))\n",
    "raw_token = tokenizer.tokenize_text(\"[SMILES]\" + s + \"[STOP]\", pad=True)\n",
    "raw_token = torch.Tensor(raw_token).to(DEVICE).unsqueeze(0)\n",
    "eclouds = torch.Tensor(np.load(cloud_npy)).to(torch.float).to(DEVICE).unsqueeze(0)"
   ]
  },
  {
   "cell_type": "code",
   "execution_count": 46,
   "metadata": {},
   "outputs": [],
   "source": [
    "noise_scales = [0.1, 0.3, 0.6, 0.9]\n",
    "for noise_scale in noise_scales:\n",
    "    num_to_gen = 200\n",
    "    smiles_near_ref = encoder.ecloud_and_token_to_2d_batch(\n",
    "    eclouds = eclouds,\n",
    "    tokens = raw_token.long(),\n",
    "    tokenizer = tokenizer,\n",
    "    num_to_gen = num_to_gen, \n",
    "    noise_scale = noise_scale,\n",
    "    )\n",
    "    mols_list = [Chem.MolFromSmiles(s) for s in smiles_near_ref]\n",
    "    mols_list = [m for m in mols_list if m is not None]\n",
    "    mols_list = [gen_geom_with_rdkit(m) for m in mols_list]\n",
    "    write_sdf(mols_list, f'./generation/BRD4/KRD4_from_smiecloud_{noise_scale}.sdf')"
   ]
  }
 ],
 "metadata": {
  "kernelspec": {
   "display_name": "ecloud",
   "language": "python",
   "name": "python3"
  },
  "language_info": {
   "codemirror_mode": {
    "name": "ipython",
    "version": 3
   },
   "file_extension": ".py",
   "mimetype": "text/x-python",
   "name": "python",
   "nbconvert_exporter": "python",
   "pygments_lexer": "ipython3",
   "version": "3.9.19"
  },
  "orig_nbformat": 4
 },
 "nbformat": 4,
 "nbformat_minor": 2
}
