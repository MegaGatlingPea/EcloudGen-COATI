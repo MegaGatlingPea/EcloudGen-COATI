{
 "cells": [
  {
   "cell_type": "code",
   "execution_count": 1,
   "metadata": {},
   "outputs": [],
   "source": [
    "from glob import glob\n",
    "import os\n",
    "import os.path as osp\n",
    "import shutil\n",
    "from coati.utils.chem import read_sdf, write_sdf"
   ]
  },
  {
   "cell_type": "code",
   "execution_count": 2,
   "metadata": {},
   "outputs": [],
   "source": [
    "gen_sdfs = glob('./results/conditions/*')\n",
    "ori_lig = './results/4bel_A_rec_2ewy_dbo_lig_tt_min_0.sdf'\n",
    "ori_pdb = './results/4bel_A_rec.pdb'"
   ]
  },
  {
   "cell_type": "code",
   "execution_count": 3,
   "metadata": {},
   "outputs": [
    {
     "data": {
      "text/plain": [
       "['./results/conditions/4bel_gradient_proj_dockingqedsa.sdf',\n",
       " './results/conditions/4bel_gradient_proj_qed.sdf',\n",
       " './results/conditions/4bel_gradient_proj_docking.sdf',\n",
       " './results/conditions/4bel_gradient_proj_sa.sdf',\n",
       " './results/conditions/4bel_gradient_proj_qedsa.sdf',\n",
       " './results/conditions/4bel_gradient_proj_dockingqed.sdf',\n",
       " './results/conditions/4bel_gradient_proj_dockingsa.sdf']"
      ]
     },
     "execution_count": 3,
     "metadata": {},
     "output_type": "execute_result"
    }
   ],
   "source": [
    "gen_sdfs"
   ]
  },
  {
   "cell_type": "code",
   "execution_count": 7,
   "metadata": {},
   "outputs": [],
   "source": [
    "new_base = '../conditional_exp/conditions_grid/'\n",
    "\n",
    "for gen_sdf in gen_sdfs:\n",
    "    gen_name = osp.basename(gen_sdf)\n",
    "    gen_name = gen_name.split('.')[0]\n",
    "    new_dir = osp.join(new_base, gen_name)\n",
    "    new_sdf_dir = osp.join(new_dir, 'SDF')\n",
    "\n",
    "    os.makedirs(new_sdf_dir, exist_ok=True)\n",
    "\n",
    "    shutil.copy(ori_pdb, new_dir)\n",
    "    shutil.copy(ori_lig, new_dir)\n",
    "    \n",
    "    mols = read_sdf(gen_sdf)\n",
    "    ori_lig_name = osp.basename(ori_lig).split('.')[0]\n",
    "\n",
    "    write_sdf(mols, osp.join(new_dir, f'{ori_lig_name}_ecloudopt.sdf'))\n",
    "\n",
    "\n",
    "    for i, mol in enumerate(mols):\n",
    "        write_sdf([mol], osp.join(new_sdf_dir, f'{i}.sdf'))"
   ]
  },
  {
   "cell_type": "code",
   "execution_count": 8,
   "metadata": {},
   "outputs": [],
   "source": [
    "prefix_targets = glob('../conditional_exp/conditions_grid/predix*')"
   ]
  },
  {
   "cell_type": "code",
   "execution_count": 9,
   "metadata": {},
   "outputs": [],
   "source": [
    "for target in prefix_targets:\n",
    "    shutil.copy(ori_pdb, target)"
   ]
  }
 ],
 "metadata": {
  "kernelspec": {
   "display_name": "prefixmol",
   "language": "python",
   "name": "python3"
  },
  "language_info": {
   "codemirror_mode": {
    "name": "ipython",
    "version": 3
   },
   "file_extension": ".py",
   "mimetype": "text/x-python",
   "name": "python",
   "nbconvert_exporter": "python",
   "pygments_lexer": "ipython3",
   "version": "3.9.19"
  },
  "orig_nbformat": 4
 },
 "nbformat": 4,
 "nbformat_minor": 2
}
