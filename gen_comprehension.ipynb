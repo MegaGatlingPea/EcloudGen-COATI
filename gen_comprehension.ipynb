{
 "cells": [
  {
   "cell_type": "code",
   "execution_count": 1,
   "metadata": {},
   "outputs": [],
   "source": [
    "import pickle\n",
    "import random\n",
    "import argparse\n",
    "import numpy as np\n",
    "from rdkit import Chem\n",
    "import rdkit.Chem.QED\n",
    "import matplotlib\n",
    "import matplotlib.pyplot as plt\n",
    "from sklearn.manifold import TSNE\n",
    "import pandas as pd\n",
    "import torch\n",
    "from torch.utils.data import DataLoader\n",
    "from coati.models.io.coati import load_e3gnn_smiles_clip_e2e\n",
    "from coati.models.regression.basic_due import basic_due\n",
    "from coati.data.dataset import ecloud_dataset\n",
    "from coati.common.util import batch_indexable\n",
    "from coati.math_tools.altair_plots import roc_plot\n",
    "from coati.generative.coati_purifications import force_decode_valid_batch, purify_vector, embed_smiles\n",
    "from coati.generative.embed_altair import embed_altair"
   ]
  },
  {
   "cell_type": "code",
   "execution_count": null,
   "metadata": {},
   "outputs": [],
   "source": [
    "def setup_seed(seed):\n",
    "    torch.manual_seed(seed)\n",
    "    torch.cuda.manual_seed_all(seed)\n",
    "    np.random.seed(seed)\n",
    "    random.seed(seed)\n",
    "    # torch.backends.cudnn.deterministic = True\n",
    "\n",
    "arg_parser = argparse.ArgumentParser()\n",
    "arg_parser.add_argument('--mode', choices=['basic', 'near', 'regression', 'dynamics'], \\\n",
    "    default='basic',help='Generation mode')\n",
    "arg_parser.add_argument('--device', choices=['cuda:0', 'cpu'], \\\n",
    "    default='cuda:0',help='Device')\n",
    "arg_parser.add_argument('--seed', type=int, default=2024) \n",
    "arg_parser.add_argument('--model', type=str, default = 'models/ecloud_augmented_37.pkl')\n",
    "arg_parser.add_argument('--dataset', type=str, default='data/ecloud_coati_demo.pt')\n",
    "arg_parser.add_argument('--smiles', type=str, default='data/demo.smi')\n",
    "arg_parser.add_argument('--output', type=str, default='0423_near_mol4_30.txt')\n",
    "arg_parser.add_argument('--noise', type=float, default=0.3)\n",
    "args = arg_parser.parse_args([])\n",
    "setup_seed(args.seed)\n"
   ]
  },
  {
   "cell_type": "code",
   "execution_count": null,
   "metadata": {},
   "outputs": [],
   "source": [
    "def basic_generation(args):\n",
    "    DEVICE = torch.device(args.device)\n",
    "    encoder, tokenizer = load_e3gnn_smiles_clip_e2e(\n",
    "        freeze=True,\n",
    "        device=DEVICE,\n",
    "        # model parameters to load.\n",
    "        doc_url=args.model,\n",
    "    )\n",
    "\n",
    "    dataset = ecloud_dataset(args.dataset)\n",
    "    epoch_iter = DataLoader(dataset = dataset, batch_size = 1, shuffle=False)\n",
    "    out=[]\n",
    "    all=0\n",
    "    for batch_data in epoch_iter:\n",
    "        eclouds = torch.Tensor(batch_data[\"eclouds\"]).to(torch.float).to(DEVICE)\n",
    "        smiles_list = encoder.eclouds_to_2d_batch(eclouds, tokenizer, '[SMILES]', noise_scale=args.noise)\n",
    "        for s in smiles_list:\n",
    "            all += 1\n",
    "            if Chem.MolFromSmiles(s)!=None:\n",
    "                out.append(s)\n",
    "\n",
    "    if out!=[]:\n",
    "        with open(args.output,'w') as f:\n",
    "            for s in out:\n",
    "                f.write(s+'\\n')\n",
    "\n",
    "    print('valid: ', len(out), len(out)/all)"
   ]
  },
  {
   "cell_type": "code",
   "execution_count": null,
   "metadata": {},
   "outputs": [],
   "source": [
    "DEVICE = torch.device(args.device)\n",
    "encoder, tokenizer = load_e3gnn_smiles_clip_e2e(\n",
    "    freeze=True,\n",
    "    device=DEVICE,\n",
    "    # model parameters to load.\n",
    "    doc_url=args.model,\n",
    ")"
   ]
  },
  {
   "cell_type": "code",
   "execution_count": null,
   "metadata": {},
   "outputs": [],
   "source": [
    "dataset = ecloud_dataset(args.dataset)\n",
    "epoch_iter = DataLoader(dataset = dataset, batch_size = 1, shuffle=False)\n",
    "out=[]\n",
    "all=0"
   ]
  },
  {
   "cell_type": "code",
   "execution_count": null,
   "metadata": {},
   "outputs": [],
   "source": [
    "dataset[0]['eclouds'].shape"
   ]
  },
  {
   "cell_type": "code",
   "execution_count": null,
   "metadata": {},
   "outputs": [],
   "source": [
    "for batch_data in epoch_iter:\n",
    "    break"
   ]
  },
  {
   "cell_type": "code",
   "execution_count": null,
   "metadata": {},
   "outputs": [],
   "source": [
    "eclouds = torch.Tensor(batch_data[\"eclouds\"]).to(torch.float).to(DEVICE)"
   ]
  },
  {
   "cell_type": "code",
   "execution_count": null,
   "metadata": {},
   "outputs": [],
   "source": [
    "smiles_list = encoder.eclouds_to_2d_batch(eclouds, tokenizer, '[SMILES]', noise_scale=0)\n",
    "Chem.MolFromSmiles(smiles_list[0])"
   ]
  },
  {
   "cell_type": "code",
   "execution_count": null,
   "metadata": {},
   "outputs": [],
   "source": [
    "raw_tokens = batch_data['raw_tokens'].tolist()[0]"
   ]
  },
  {
   "cell_type": "code",
   "execution_count": null,
   "metadata": {},
   "outputs": [],
   "source": [
    "smiles = tokenizer.decode(raw_tokens, special=keep_special)"
   ]
  },
  {
   "cell_type": "code",
   "execution_count": null,
   "metadata": {},
   "outputs": [],
   "source": [
    "smiles"
   ]
  },
  {
   "cell_type": "code",
   "execution_count": null,
   "metadata": {},
   "outputs": [],
   "source": [
    "Chem.MolFromSmiles(smiles)"
   ]
  },
  {
   "cell_type": "code",
   "execution_count": null,
   "metadata": {},
   "outputs": [],
   "source": [
    "batch_data['raw_tokens'].shape"
   ]
  },
  {
   "cell_type": "code",
   "execution_count": null,
   "metadata": {},
   "outputs": [],
   "source": [
    "Chem.MolFromSmiles(smiles_list[0])"
   ]
  },
  {
   "cell_type": "code",
   "execution_count": null,
   "metadata": {},
   "outputs": [],
   "source": [
    "h_clip = encoder.encode_eclouds(eclouds_batch)\n",
    "noise_scale = args.noise\n",
    "h_clip += torch.normal(\n",
    "    mean=torch.zeros_like(h_clip), std=noise_scale * torch.ones_like(h_clip)\n",
    ")\n",
    "\n",
    "h_token = encoder.point_clip_to_special_tokens(h_clip)\n",
    "fill_in_from = \"[SMILES]\"\n",
    "suffstr = \"\"\n",
    "token_prebatch = tokenizer.tokenize_text(\n",
    "    \"[CLIP][UNK]\" + fill_in_from + suffstr, pad=False\n",
    ")\n",
    "\n",
    "inv_temp = 2.0\n",
    "k = 100\n",
    "\n",
    "generation = encoder.xformer.generate_top_k_with_inj_batch(\n",
    "    prefix=token_prebatch,\n",
    "    stop_token=tokenizer.stop_token,\n",
    "    inv_temp=inv_temp,\n",
    "    k=k,\n",
    "    pad_token=tokenizer.pad_token,\n",
    "    inj_token=tokenizer.unk_token,\n",
    "    inj_payload=h_token,\n",
    ")\n",
    "\n",
    "keep_special = False\n",
    "token_out = generation[0]\n",
    "smiles = tokenizer.decode(token_out, special=keep_special)"
   ]
  },
  {
   "cell_type": "code",
   "execution_count": null,
   "metadata": {},
   "outputs": [],
   "source": [
    "keep_special = False\n",
    "token_out = generation[0]\n",
    "smiles = tokenizer.decode(token_out, special=keep_special)"
   ]
  },
  {
   "cell_type": "code",
   "execution_count": null,
   "metadata": {},
   "outputs": [],
   "source": [
    "token_out"
   ]
  },
  {
   "cell_type": "code",
   "execution_count": null,
   "metadata": {},
   "outputs": [],
   "source": [
    "Chem.MolFromSmiles(smiles)"
   ]
  },
  {
   "cell_type": "code",
   "execution_count": null,
   "metadata": {},
   "outputs": [],
   "source": [
    "\n",
    "for batch_data in epoch_iter:\n",
    "    eclouds = torch.Tensor(batch_data[\"eclouds\"]).to(torch.float).to(DEVICE)\n",
    "    smiles_list = encoder.eclouds_to_2d_batch(eclouds, tokenizer, '[SMILES]', noise_scale=args.noise)\n",
    "    for s in smiles_list:\n",
    "        all += 1\n",
    "        if Chem.MolFromSmiles(s)!=None:\n",
    "            out.append(s)\n"
   ]
  },
  {
   "cell_type": "code",
   "execution_count": null,
   "metadata": {},
   "outputs": [],
   "source": [
    "# case 2 "
   ]
  },
  {
   "cell_type": "code",
   "execution_count": null,
   "metadata": {},
   "outputs": [],
   "source": [
    "dataset = ecloud_dataset(args.dataset)\n",
    "ref = dataset[4] # only choose one for test\n",
    "ecloud = torch.Tensor(ref[\"eclouds\"]).to(torch.float).to(DEVICE).unsqueeze(0)\n",
    "raw_token = torch.Tensor(ref[\"raw_tokens\"]).to(torch.float).to(DEVICE).unsqueeze(0)\n",
    "num_to_gen = 50"
   ]
  },
  {
   "cell_type": "code",
   "execution_count": null,
   "metadata": {},
   "outputs": [],
   "source": [
    "raw_smi = tokenizer.decode(ref[\"raw_tokens\"].tolist(), special=False)"
   ]
  },
  {
   "cell_type": "code",
   "execution_count": null,
   "metadata": {},
   "outputs": [],
   "source": [
    "smiles_near_ref = encoder.ecloud_and_token_to_2d_batch(\n",
    "eclouds = ecloud,\n",
    "tokens = raw_token.long(),\n",
    "tokenizer = tokenizer,\n",
    "num_to_gen = num_to_gen, \n",
    "noise_scale = args.noise\n",
    ")"
   ]
  },
  {
   "cell_type": "code",
   "execution_count": null,
   "metadata": {},
   "outputs": [],
   "source": [
    "eclouds = ecloud\n",
    "tokens = raw_token.long()"
   ]
  },
  {
   "cell_type": "code",
   "execution_count": null,
   "metadata": {},
   "outputs": [],
   "source": []
  },
  {
   "cell_type": "code",
   "execution_count": null,
   "metadata": {},
   "outputs": [],
   "source": [
    "h_ecloud = encoder.encode_eclouds(eclouds).repeat(num_to_gen, 1)\n",
    "h_smiles = encoder.encode_tokens(tokens, tokenizer).repeat(num_to_gen, 1)\n",
    "if noise_scale > 0:\n",
    "    h_smiles += torch.normal(\n",
    "        mean=torch.zeros_like(h_smiles), std=noise_scale * torch.ones_like(h_smiles)\n",
    "    )\n",
    "point_clip_token = encoder.point_clip_to_special_tokens(h_ecloud)\n",
    "smiles_clip_token = encoder.point_clip_to_special_tokens(h_smiles)\n",
    "clip_token = torch.where(\n",
    "    (torch.rand((h_ecloud.shape[0],), device=eclouds.device) > 0.5)\n",
    "    .unsqueeze(-1)\n",
    "    .repeat(1, point_clip_token.shape[-1]),\n",
    "    point_clip_token,\n",
    "    smiles_clip_token,\n",
    ")"
   ]
  },
  {
   "cell_type": "code",
   "execution_count": null,
   "metadata": {},
   "outputs": [],
   "source": [
    "random_token = (torch.rand((h_ecloud.shape[0],), device=eclouds.device) > 0.5).unsqueeze(-1).repeat(1, point_clip_token.shape[-1])"
   ]
  },
  {
   "cell_type": "code",
   "execution_count": null,
   "metadata": {},
   "outputs": [],
   "source": [
    "tokenizer.unk_token"
   ]
  },
  {
   "cell_type": "code",
   "execution_count": null,
   "metadata": {},
   "outputs": [],
   "source": [
    "clip_token = torch.where(random_token,point_clip_token,smiles_clip_token)"
   ]
  },
  {
   "cell_type": "code",
   "execution_count": null,
   "metadata": {},
   "outputs": [],
   "source": [
    "# case 3\n",
    "DEVICE = torch.device(args.device)\n",
    "encoder, tokenizer = load_e3gnn_smiles_clip_e2e(\n",
    "    freeze=True,\n",
    "    device=DEVICE,\n",
    "    # model parameters to load.\n",
    "    doc_url=args.model,\n",
    ")\n",
    "\n",
    "with open(args.smiles) as f:\n",
    "    smiles = [line.strip('\\n') for line in f][:10000]\n",
    "random.shuffle(smiles)\n",
    "subset = [{\"smiles\": s, \"source\": \"demo_mols\"} for s in smiles]"
   ]
  },
  {
   "cell_type": "code",
   "execution_count": null,
   "metadata": {},
   "outputs": [],
   "source": [
    "embed_and_score_in_batches_regression(subset, encoder, tokenizer)"
   ]
  },
  {
   "cell_type": "code",
   "execution_count": null,
   "metadata": {},
   "outputs": [],
   "source": [
    "records = subset\n",
    "batch_size=128\n",
    "batch_iter = batch_indexable(records, batch_size)"
   ]
  },
  {
   "cell_type": "code",
   "execution_count": null,
   "metadata": {},
   "outputs": [],
   "source": [
    "num_batches = len(records) // batch_size"
   ]
  },
  {
   "cell_type": "code",
   "execution_count": null,
   "metadata": {},
   "outputs": [],
   "source": [
    "for i, batch in enumerate(batch_iter):\n",
    "    break"
   ]
  },
  {
   "cell_type": "code",
   "execution_count": null,
   "metadata": {},
   "outputs": [],
   "source": [
    "smiles_field=\"smiles\"\n",
    "batch_mols = [Chem.MolFromSmiles(row[smiles_field]) for row in batch]\n",
    "batch_smiles = [Chem.MolToSmiles(m) for m in batch_mols]"
   ]
  },
  {
   "cell_type": "code",
   "execution_count": null,
   "metadata": {},
   "outputs": [],
   "source": [
    "batch_tokens = torch.tensor(\n",
    "    [\n",
    "        tokenizer.tokenize_text(\"[SMILES]\" + s + \"[STOP]\", pad=True)\n",
    "        if s != \"*\"\n",
    "        else tokenizer.tokenize_text(\"[SMILES]C[STOP]\", pad=True)\n",
    "        for s in batch_smiles\n",
    "    ],\n",
    "    device=encoder.device,\n",
    "    dtype=torch.int,\n",
    ")"
   ]
  },
  {
   "cell_type": "code",
   "execution_count": null,
   "metadata": {},
   "outputs": [],
   "source": [
    "batch_embeds = encoder.encode_tokens(batch_tokens, tokenizer)"
   ]
  },
  {
   "cell_type": "code",
   "execution_count": null,
   "metadata": {},
   "outputs": [],
   "source": [
    "batch_logp = [rdkit.Chem.Crippen.MolLogP(m) for m in batch_mols]\n",
    "batch_qed = [rdkit.Chem.QED.qed(m) for m in batch_mols]"
   ]
  },
  {
   "cell_type": "code",
   "execution_count": null,
   "metadata": {},
   "outputs": [],
   "source": [
    "from part3_gen_cases import embed_and_score_in_batches_regression\n",
    "embed_and_score_in_batches_regression(subset, encoder, tokenizer)"
   ]
  },
  {
   "cell_type": "code",
   "execution_count": null,
   "metadata": {},
   "outputs": [],
   "source": [
    "y_field = \"logp\" \n",
    "qed_model, qed_res = basic_due(\n",
    "    subset,\n",
    "    x_field=\"emb_smiles\",\n",
    "    y_field=y_field,\n",
    "    save_as=\"regression_\"+y_field+\".pkl\",\n",
    "    continue_training=True,\n",
    "    steps=1e4,\n",
    "    random_seed=args.seed\n",
    "    )"
   ]
  },
  {
   "cell_type": "code",
   "execution_count": null,
   "metadata": {},
   "outputs": [],
   "source": [
    "DEVICE = torch.device(args.device)\n",
    "encoder, tokenizer = load_e3gnn_smiles_clip_e2e(\n",
    "    freeze=True,\n",
    "    device=DEVICE,\n",
    "    # model parameters to load.\n",
    "    doc_url=args.model,\n",
    ")"
   ]
  },
  {
   "cell_type": "code",
   "execution_count": null,
   "metadata": {},
   "outputs": [],
   "source": [
    "with open(args.smiles) as f:\n",
    "    smiles = [line.strip('\\n') for line in f]\n",
    "init_mols = [{\"smiles\": s} for s in smiles[:3]]"
   ]
  },
  {
   "cell_type": "code",
   "execution_count": null,
   "metadata": {},
   "outputs": [],
   "source": [
    "subset = [{\"smiles\": s, \"source\": \"demo_mols\"} for s in smiles[:1000]] # only for load model"
   ]
  },
  {
   "cell_type": "code",
   "execution_count": null,
   "metadata": {},
   "outputs": [],
   "source": [
    "from part3_gen_cases import embed_and_score_in_batches_regression\n",
    "\n",
    "embed_and_score_in_batches_regression(subset, encoder, tokenizer)"
   ]
  },
  {
   "cell_type": "code",
   "execution_count": null,
   "metadata": {},
   "outputs": [],
   "source": [
    "def get_qed(v):\n",
    "    return qed_model(v.unsqueeze(0)).mean\n",
    "\n",
    "def get_logp(v):\n",
    "    return logp_model(v.unsqueeze(0)).mean\n",
    "\n",
    "def logp_penalty(v):\n",
    "    \"\"\"\n",
    "    Penalize logP > 5. Loss is squared to make it smooth.\n",
    "    \"\"\"\n",
    "    return torch.pow(4 * torch.nn.functional.relu(get_logp(v) - 5.0), 2.0)\n",
    "\n",
    "qed_model, _ = basic_due(\n",
    "    subset,\n",
    "    x_field=\"emb_smiles\",\n",
    "    y_field=\"qed\",\n",
    "    load_as=\"regression_qed.pkl\",\n",
    "    continue_training=False,\n",
    "    random_seed=args.seed\n",
    "    )\n",
    "logp_model, _ = basic_due(\n",
    "    subset,\n",
    "    x_field=\"emb_smiles\",\n",
    "    y_field=\"logp\",\n",
    "    load_as=\"regression_logp.pkl\",\n",
    "    continue_training=False,\n",
    "    random_seed=args.seed\n",
    "    )"
   ]
  },
  {
   "cell_type": "code",
   "execution_count": null,
   "metadata": {},
   "outputs": [],
   "source": [
    "nsteps = 2000\n",
    "meta_traj_no_binding = []"
   ]
  },
  {
   "cell_type": "code",
   "execution_count": null,
   "metadata": {},
   "outputs": [],
   "source": [
    "k = 0\n",
    "rec = init_mols[k]\n",
    "\n",
    "init_emb_vec = embed_smiles(rec[\"smiles\"], encoder, tokenizer).to(DEVICE)  \n",
    "objective_fcn = lambda X: -10 * get_qed(X)  # the constraints below will be added to this.\n",
    "bump_radius=0.125 * 4\n",
    "bump_height=80.0 * 16\n",
    "constraint_functions={\n",
    "    \"logp_p\": logp_penalty\n",
    "}  # enforced to == 0 by lagrange multipliers.\n",
    "log_functions={\n",
    "    \"logp\": get_logp,\n",
    "    \"qed\": get_qed,\n",
    "}  # These log functions will get appended to the history list-dict returned.\n",
    "nsteps=nsteps\n",
    "save_traj_history=f\"./meta_traj_no_binding_{k}.pkl\""
   ]
  },
  {
   "cell_type": "code",
   "execution_count": null,
   "metadata": {},
   "outputs": [],
   "source": [
    "vec = torch.nn.Parameter(init_emb_vec.to(encoder.device))\n",
    "vec.requires_grad = True"
   ]
  },
  {
   "cell_type": "code",
   "execution_count": null,
   "metadata": {},
   "outputs": [],
   "source": [
    "constraint_functions"
   ]
  },
  {
   "cell_type": "code",
   "execution_count": null,
   "metadata": {},
   "outputs": [],
   "source": [
    "params = [vec]\n",
    "for _ in constraint_functions.keys():\n",
    "    params.append(torch.nn.Parameter(100 * torch.ones_like(vec[:1])))"
   ]
  },
  {
   "cell_type": "code",
   "execution_count": null,
   "metadata": {},
   "outputs": [],
   "source": [
    "optimizer = torch.optim.SGD(params, lr=2e-3)"
   ]
  },
  {
   "cell_type": "code",
   "execution_count": null,
   "metadata": {},
   "outputs": [],
   "source": [
    "smiles = force_decode_valid_batch(init_emb_vec, encoder, tokenizer)\n"
   ]
  },
  {
   "cell_type": "code",
   "execution_count": null,
   "metadata": {},
   "outputs": [],
   "source": [
    "history = [\n",
    "    {\n",
    "        \"emb\": vec.flatten().detach().cpu().numpy(),\n",
    "        \"name\": 0,\n",
    "        \"smiles\": smiles,\n",
    "        \"library\": \"opt\",\n",
    "        \"activity\": objective_fcn(vec).item(),\n",
    "        **{\n",
    "            c: constraint_functions[c](vec).detach().cpu().numpy()\n",
    "            for c in constraint_functions\n",
    "        },\n",
    "        **{c: log_functions[c](vec).detach().cpu().numpy() for c in log_functions},\n",
    "    }\n",
    "]"
   ]
  },
  {
   "cell_type": "code",
   "execution_count": null,
   "metadata": {},
   "outputs": [],
   "source": [
    "def bump_potential(V, bumps=[], radius=0.125, height=80.0, vec_dim=256):\n",
    "    \"\"\"\n",
    "    Explore space by using gaussian bump potentials when the vector isn't\n",
    "    changing a lot.\n",
    "    \"\"\"\n",
    "\n",
    "    if len(bumps) < 1:\n",
    "        return torch.zeros(1, device=V.device)\n",
    "\n",
    "    bump_potential = (\n",
    "        height\n",
    "        * (\n",
    "            (\n",
    "                torch.distributions.multivariate_normal.MultivariateNormal(\n",
    "                    torch.stack(bumps, 0).to(V.device),\n",
    "                    radius * torch.eye(vec_dim).to(V.device),\n",
    "                ).log_prob(V)\n",
    "                + (vec_dim / 2) * (np.log(2 * torch.pi) + np.log(radius))\n",
    "            ).exp()\n",
    "        ).sum()\n",
    "    )\n",
    "\n",
    "    return bump_potential"
   ]
  },
  {
   "cell_type": "code",
   "execution_count": null,
   "metadata": {},
   "outputs": [],
   "source": [
    "bump_radius"
   ]
  },
  {
   "cell_type": "code",
   "execution_count": null,
   "metadata": {},
   "outputs": [],
   "source": [
    "Chem.MolFromSmiles(smiles)"
   ]
  },
  {
   "cell_type": "code",
   "execution_count": null,
   "metadata": {},
   "outputs": [],
   "source": [
    "Chem.MolFromSmiles(init_mols[0]['smiles'])"
   ]
  },
  {
   "cell_type": "code",
   "execution_count": null,
   "metadata": {},
   "outputs": [],
   "source": [
    "# no bumps are initialized.\n",
    "nsteps = 2000\n",
    "\n",
    "\n",
    "bumps = []\n",
    "last_bump = 0\n",
    "save_every = 25\n",
    "project_every = 15\n",
    "for k in range(nsteps):\n",
    "    if k % project_every == 0 and k > 0:\n",
    "        vec.data = 0.4 * vec.data + 0.6 * purify_vector(\n",
    "            vec.data, encoder, tokenizer, n_rep=50\n",
    "        )\n",
    "\n",
    "    optimizer.zero_grad()\n",
    "    activity = objective_fcn(vec)\n",
    "\n",
    "    constraint_values = []\n",
    "    for f in constraint_functions.keys():\n",
    "        constraint_values.append(constraint_functions[f](vec))\n",
    "    if len(constraint_values):\n",
    "        constraint_term = torch.sum(torch.concat(constraint_values))\n",
    "    else:\n",
    "        constraint_term = torch.zeros_like(activity)\n",
    "\n",
    "    # add a bump_term to the loss (=0 if no bumps).\n",
    "    bump_term = bump_potential(vec, bumps, radius=bump_radius, height=bump_height)\n",
    "\n",
    "    loss = activity + constraint_term + bump_term\n",
    "    loss.backward()  # retain_graph=True)\n",
    "\n",
    "    if k % save_every == 0:\n",
    "        # Try to decode the vector here into a molecule!.\n",
    "        smiles = force_decode_valid_batch(vec, encoder, tokenizer)\n",
    "\n",
    "        history.append(\n",
    "            {\n",
    "                \"emb\": vec.flatten().detach().cpu().numpy(),\n",
    "                \"name\": k,\n",
    "                \"smiles\": smiles,\n",
    "                \"library\": \"opt\",\n",
    "                \"loss\": loss.detach().cpu().item(),\n",
    "                \"activity\": activity.detach().cpu().item(),\n",
    "                \"bump_term\": bump_term.detach().cpu().item(),\n",
    "                \"const_term\": constraint_term.detach().cpu().item(),\n",
    "                **{\n",
    "                    c: log_functions[c](vec).detach().cpu().item()\n",
    "                    for c in log_functions\n",
    "                },\n",
    "            }\n",
    "        )\n",
    "\n",
    "        v1 = history[-1][\"emb\"]\n",
    "        v2 = history[-2][\"emb\"]\n",
    "        s1 = history[-1][\"smiles\"]\n",
    "        s2 = history[-2][\"smiles\"]\n",
    "\n",
    "        # build log string\n",
    "        log_str = f\"{k}: dV {np.linalg.norm(v1-v2):.3e} \"\n",
    "        to_log = [\"loss\", \"activity\", \"bump_term\", \"const_term\"] + list(\n",
    "            log_functions.keys()\n",
    "        )\n",
    "        for l in to_log:\n",
    "            log_str = log_str + f\"{l}:{history[-1][l]:.2f} \"\n",
    "\n",
    "        if (\n",
    "            ((v1 * v2).sum() / (np.linalg.norm(v1) * np.linalg.norm(v2)) > 0.85)\n",
    "            and (k - last_bump > 25)\n",
    "        ) or (s1 == s2 and k > 50):\n",
    "            print(\"adding bump \", smiles)\n",
    "            last_bump = k\n",
    "            new_bump = torch.from_numpy(v1).to(device=vec.device)\n",
    "            bumps.append(new_bump)\n",
    "\n",
    "        if save_traj_history is not None:\n",
    "            # save trajectory to file\n",
    "            with open(save_traj_history, \"wb\") as f:\n",
    "                pickle.dump(history, f)\n",
    "\n",
    "        print(log_str)\n",
    "\n",
    "    optimizer.step()"
   ]
  },
  {
   "cell_type": "code",
   "execution_count": 57,
   "metadata": {},
   "outputs": [],
   "source": [
    "traj = history\n",
    "for r in traj:\n",
    "    r[\"library\"] = \"opt_\" + str(k)\n",
    "meta_traj_no_binding.extend(traj)"
   ]
  },
  {
   "cell_type": "code",
   "execution_count": 60,
   "metadata": {},
   "outputs": [
    {
     "name": "stdout",
     "output_type": "stream",
     "text": [
      "Embedding and scoring iterable from smiles.\n",
      "batch: 0/0\n"
     ]
    }
   ],
   "source": [
    "from part3_gen_cases import embed_and_score_in_batches\n",
    "rdkit_scores = {\n",
    "    \"qed_rdkit\": rdkit.Chem.QED.qed,\n",
    "    \"logp_rdkit\": rdkit.Chem.Crippen.MolLogP,\n",
    "    \"mol_wt_rdkit\": rdkit.Chem.Descriptors.ExactMolWt,\n",
    "}\n",
    "model_scores = {\"qed_model\": get_qed, \"logp_model\": get_logp}\n",
    "embed_and_score_in_batches(\n",
    "    meta_traj_no_binding, encoder, tokenizer, \n",
    "    rdkit_scores=rdkit_scores, model_scores=model_scores\n",
    ")"
   ]
  },
  {
   "cell_type": "code",
   "execution_count": 62,
   "metadata": {},
   "outputs": [
    {
     "name": "stderr",
     "output_type": "stream",
     "text": [
      "/tmp/ipykernel_792190/3115518039.py:12: UserWarning: No data for colormapping provided via 'c'. Parameters 'cmap', 'norm' will be ignored\n",
      "  plt.scatter(\n"
     ]
    },
    {
     "data": {
      "image/png": "[encoded data removed]",
      "text/plain": [
       "<Figure size 1000x800 with 2 Axes>"
      ]
     },
     "metadata": {},
     "output_type": "display_data"
    }
   ],
   "source": [
    "# save 1\n",
    "for r in meta_traj_no_binding:\n",
    "    r[\"library\"] = \"meta_qed\"\n",
    "to_score = meta_traj_no_binding \n",
    "df = pd.DataFrame(to_score)\n",
    "embs = np.stack(df[\"emb_smiles\"].values.tolist(), 0)\n",
    "X_embedded = TSNE(n_components=2, learning_rate=100, init=\"random\").fit_transform(embs)\n",
    "df.loc[:, \"X\"] = X_embedded[:, 0]\n",
    "df.loc[:, \"Y\"] = X_embedded[:, 1]\n",
    "norm = matplotlib.colors.Normalize(vmin=0, vmax=5.0)\n",
    "plt.figure(figsize=(10, 8))\n",
    "plt.scatter(\n",
    "    df[df.library == \"meta_qed\"].X,\n",
    "    df[df.library == \"meta_qed\"].Y,\n",
    "    #c=df[df.library == \"meta_qed\"].pic50_model,\n",
    "    norm=norm,\n",
    "    marker=\"s\",\n",
    "    cmap=\"plasma\",\n",
    "    alpha=0.5,\n",
    "    label=\"no_bind_traj\",\n",
    ")\n",
    "plt.clim(0, 10.0)\n",
    "plt.legend()\n",
    "plt.colorbar()\n",
    "plt.axis(\"off\")\n",
    "plt.savefig(\"trajs_tsne.pdf\", dpi=300, bbox_inches=\"tight\")\n"
   ]
  },
  {
   "cell_type": "code",
   "execution_count": 63,
   "metadata": {},
   "outputs": [
    {
     "name": "stderr",
     "output_type": "stream",
     "text": [
      "/home/haotian/software/miniconda3/envs/ecloud/lib/python3.9/site-packages/altair/utils/deprecation.py:65: AltairDeprecationWarning: 'selection_multi' is deprecated.  Use 'selection_point'\n",
      "  warnings.warn(message, AltairDeprecationWarning, stacklevel=1)\n",
      "/home/haotian/software/miniconda3/envs/ecloud/lib/python3.9/site-packages/altair/utils/deprecation.py:65: AltairDeprecationWarning: 'add_selection' is deprecated. Use 'add_params' instead.\n",
      "  warnings.warn(message, AltairDeprecationWarning, stacklevel=1)\n"
     ]
    }
   ],
   "source": [
    "# save 2\n",
    "chart = embed_altair(\n",
    "df,\n",
    "tooltip_fields=[\"smiles\", \"mol_index\", \"logp_rdkit\", \"qed_rdkit\"],\n",
    "selector_field=\"library\",\n",
    "quantity=\"qed_rdkit\",\n",
    "image_tooltip=True,\n",
    "emb_field=\"emb_smiles\",\n",
    "smiles_field=\"smiles\",\n",
    "width=1024,\n",
    "height=768,\n",
    ")\n",
    "chart.save(\"meta_dyn_trajs.html\")\n",
    "# save 3\n",
    "images = []\n",
    "for traj in meta_traj_no_binding:\n",
    "    try:\n",
    "        k = traj[\"name\"]\n",
    "        qed = traj[\"qed_model\"]\n",
    "        logp = traj[\"logp_model\"]\n",
    "        images.append(\n",
    "            Chem.Draw.MolToImage(\n",
    "                Chem.MolFromSmiles(traj[\"smiles\"]),\n",
    "                legend=f\"k {k} qed {qed:.2f} logp {logp:.2f}\",\n",
    "            )\n",
    "        )\n",
    "    except:\n",
    "        pass"
   ]
  },
  {
   "cell_type": "code",
   "execution_count": 75,
   "metadata": {},
   "outputs": [
    {
     "data": {
      "image/jpeg": "[encoded data removed]",
      "image/png": "[encoded data removed]",
      "text/plain": [
       "<PIL.PngImagePlugin.PngImageFile image mode=RGB size=300x300>"
      ]
     },
     "execution_count": 75,
     "metadata": {},
     "output_type": "execute_result"
    }
   ],
   "source": [
    "images[1]"
   ]
  },
  {
   "cell_type": "code",
   "execution_count": 64,
   "metadata": {},
   "outputs": [],
   "source": [
    "images[0].save(\n",
    "    \"qed_meta_example_2k_steps.gif\",\n",
    "    save_all=True,\n",
    "    append_images=images[1:],\n",
    "    optimize=False,\n",
    "    duration=120,\n",
    "    loop=0,\n",
    ")"
   ]
  }
 ],
 "metadata": {
  "kernelspec": {
   "display_name": "ecloud",
   "language": "python",
   "name": "python3"
  },
  "language_info": {
   "codemirror_mode": {
    "name": "ipython",
    "version": 3
   },
   "file_extension": ".py",
   "mimetype": "text/x-python",
   "name": "python",
   "nbconvert_exporter": "python",
   "pygments_lexer": "ipython3",
   "version": "3.9.19"
  },
  "orig_nbformat": 4
 },
 "nbformat": 4,
 "nbformat_minor": 2
}
